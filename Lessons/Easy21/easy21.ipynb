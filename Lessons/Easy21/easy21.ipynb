{
 "cells": [
  {
   "cell_type": "markdown",
   "metadata": {},
   "source": [
    "# Easy 21 problem\n",
    "\n",
    "I haven't been to the UCL therefore I can't know if my answers would satisfy the one that created and corrected [this subject](http://www0.cs.ucl.ac.uk/staff/d.silver/web/Teaching_files/Easy21-Johannes.pdf) however I found it quite interesting. Here are my answers to its questions"
   ]
  },
  {
   "cell_type": "code",
   "execution_count": 2,
   "metadata": {},
   "outputs": [],
   "source": [
    "#Imports and utils functions\n",
    "\n",
    "import numpy as np\n",
    "import random\n",
    "import math\n",
    "import matplotlib.pyplot as plt\n",
    "from functools import wraps\n",
    "from tqdm import tqdm\n",
    "\n",
    "#utils function to get an integer if the value is between inf and sup\n",
    "def inbetween(value,inf,sup):\n",
    "    if value <=sup and value >= inf:\n",
    "        return 1\n",
    "    else:\n",
    "        return 0\n"
   ]
  },
  {
   "cell_type": "markdown",
   "metadata": {},
   "source": [
    "## Implementation of easy 21"
   ]
  },
  {
   "cell_type": "code",
   "execution_count": 4,
   "metadata": {},
   "outputs": [],
   "source": [
    "#Environement class \n",
    "class Easy21(object):\n",
    "    \"\"\"\n",
    "    Implementation of Easy 21 a simplified Black jack\n",
    "    This was an exercice for the students following UCL course on RL\n",
    "    You have two actions hit or draw the closest to 21 between the dealer and the player wins\n",
    "    \"\"\"\n",
    "    def __init__(self):\n",
    "        self.max_value=10\n",
    "        self.dealer_card = random.randint(1,self.max_value)\n",
    "        self.initial_card = random.randint(1,self.max_value)\n",
    "        self.count = self.initial_card\n",
    "        self.action_space=2\n",
    "        self.state_space=2\n",
    "    #classic state has the dealer card and the current count\n",
    "    @property\n",
    "    def state(self):\n",
    "        return [self.dealer_card,self.count]\n",
    "    # binary state has overlapping features made for a binary linear model\n",
    "    @property\n",
    "    def binary_state(self):\n",
    "        dealer_binary = np.array([inbetween(self.dealer_card,1,4),inbetween(self.dealer_card,4,7),inbetween(self.dealer_card,7,10)])\n",
    "        player_binary = np.array([inbetween(self.count,1,6),inbetween(self.count,4,9),inbetween(self.count,7,12),inbetween(self.count,10,15),inbetween(self.count,13,18),inbetween(self.count,16,21)])\n",
    "        return np.concatenate((dealer_binary,player_binary),axis=0)\n",
    "    \n",
    "    #function to draw a card\n",
    "    def pull(self):\n",
    "        return random.choice([1,-1])*random.randint(1,self.max_value)\n",
    "    \n",
    "    #first action is to pull second action to hit\n",
    "    def step(self,action):\n",
    "        if action == 0:\n",
    "            self.count += self.pull()\n",
    "            if self.count >21 or self.count<1:\n",
    "                new_state, reward, done =  None,-1,True\n",
    "            else:\n",
    "                new_state, reward, done = self.state,0,False\n",
    "            return new_state, reward, done\n",
    "        #if you hit the dealer pulls until he has lost (=less than 1 or above 21) or above 17\n",
    "        #in the latter case the number is then compared to the number that we pulled\n",
    "        if action == 1:\n",
    "            dealers_sum = self.dealer_card\n",
    "            while True:\n",
    "                dealers_sum += self.pull()\n",
    "                if dealers_sum<1 or dealers_sum>21:\n",
    "                    new_state, reward, done  = None,1,True\n",
    "                    return new_state, reward, done\n",
    "                if dealers_sum >=17:\n",
    "                    if dealers_sum < self.count:\n",
    "                        reward = 1\n",
    "                    if dealers_sum == self.count:\n",
    "                        reward = 0\n",
    "                    if dealers_sum > self.count:\n",
    "                        reward = -1\n",
    "                    new_state, reward, done = None, reward, True\n",
    "                    return new_state, reward, done\n",
    "\n",
    "    #reboot function\n",
    "    def restart(self):\n",
    "        self.dealer_card = random.randint(1,self.max_value)\n",
    "        self.initial_card = random.randint(1,self.max_value)\n",
    "        self.count = self.initial_card\n",
    "        return self.state\n",
    "\n"
   ]
  },
  {
   "cell_type": "markdown",
   "metadata": {},
   "source": [
    "## Monte-Carlo Control"
   ]
  },
  {
   "cell_type": "code",
   "execution_count": 9,
   "metadata": {},
   "outputs": [],
   "source": [
    "\n",
    "#Epsilon greedy agent with a Q table\n",
    "class AgentEpsilonTable(object):\n",
    "    def __init__(self,actions_number,dealer_range,player_range,n0):\n",
    "        #the Q table has the dimension of the state [1,10]x[1,21] time the dim of the action [0,1]\n",
    "        self.q_table = np.zeros((dealer_range,player_range,actions_number))\n",
    "        #for averaging the Q values sampled \n",
    "        self.count = np.zeros((dealer_range,player_range,actions_number))\n",
    "        #epsilon will depend on this parameter\n",
    "        self.n0 = n0\n",
    "        self.actions_number = actions_number\n",
    "\n",
    "    # function to select an action in the epsilon greedy manner\n",
    "    def select_action(self,state):\n",
    "        epsilon = self.n0/(self.n0 + np.sum(self.count[state[0]-1,state[1]-1]))\n",
    "        if random.random() < epsilon:\n",
    "            return random.choice(range(self.actions_number))\n",
    "        else:\n",
    "            return np.argmax(self.q_table[state[0]-1,state[1]-1])\n",
    "\n",
    "    # Averaging all the forwards on the state,action given the return (MC, TD, TD lambda)\n",
    "    def update_q_value(self,state,action,rtn):\n",
    "        self.count[state[0]-1,state[1]-1,action]+=1\n",
    "        self.q_table[state[0]-1,state[1]-1,action]+= (rtn - self.q_table[state[0]-1,state[1]-1,action])/self.count[state[0]-1,state[1]-1,action]\n",
    "\n",
    "#function to plot the Q table and the optimal value function\n",
    "def plot_q_table(q_table):\n",
    "    #plot the optimal value function\n",
    "    v_star = np.max(q_table,axis=2)\n",
    "\n",
    "    X, Y = np.meshgrid(range(1,22), range(1,11))\n",
    "    plt.pcolormesh(X,Y,v_star)\n",
    "    plt.title(\"V*\")\n",
    "    plt.figure()\n",
    "\n",
    "    plt.pcolormesh(X,Y,q_table[:,:,0])\n",
    "    plt.title(\"Q(S,A=0)\")\n",
    "    plt.figure()\n",
    "\n",
    "    plt.pcolormesh(X,Y,q_table[:,:,1])\n",
    "    plt.title(\"Q(S,A=1)\")\n",
    "    plt.show()\n",
    "\n",
    "\n",
    "\n",
    "#function to sample monte carlo returns\n",
    "def run_monte_carlo():\n",
    "    #initialize env\n",
    "    env = Easy21()\n",
    "\n",
    "    #initialize Q table\n",
    "    agent = AgentEpsilonTable(env.action_space,10,21,100)\n",
    "\n",
    "    number_of_episodes=2000000\n",
    "\n",
    "    #run all experiments\n",
    "    for episode in tqdm(range(number_of_episodes)):\n",
    "        state = env.restart()\n",
    "        done = False\n",
    "        history = []\n",
    "        #action selection and step loop\n",
    "        while not done:\n",
    "            action = agent.select_action(state)\n",
    "            new_state, reward, done = env.step(action)\n",
    "            history.append((state,action,reward))\n",
    "            state=new_state\n",
    "        #offline updates\n",
    "        for i in range(len(history)):\n",
    "            _,_,rewards = zip(*history[i:])\n",
    "            rtn = sum(rewards)\n",
    "            state,action,_ = history[i]\n",
    "            agent.update_q_value(state,action,rtn)\n",
    "    #plot Q table\n",
    "    plot_q_table(agent.q_table)"
   ]
  },
  {
   "cell_type": "code",
   "execution_count": 10,
   "metadata": {},
   "outputs": [
    {
     "name": "stderr",
     "output_type": "stream",
     "text": [
      "100%|██████████| 2000000/2000000 [02:40<00:00, 12461.21it/s]\n"
     ]
    },
    {
     "data": {
      "image/png": "[encoded data removed]",
      "text/plain": [
       "<Figure size 432x288 with 1 Axes>"
      ]
     },
     "metadata": {
      "needs_background": "light"
     },
     "output_type": "display_data"
    },
    {
     "data": {
      "image/png": "[encoded data removed]",
      "text/plain": [
       "<Figure size 432x288 with 1 Axes>"
      ]
     },
     "metadata": {
      "needs_background": "light"
     },
     "output_type": "display_data"
    },
    {
     "data": {
      "image/png": "[encoded data removed]",
      "text/plain": [
       "<Figure size 432x288 with 1 Axes>"
      ]
     },
     "metadata": {
      "needs_background": "light"
     },
     "output_type": "display_data"
    }
   ],
   "source": [
    "run_monte_carlo()"
   ]
  },
  {
   "cell_type": "markdown",
   "metadata": {},
   "source": [
    "## TD learning in easy 21\n",
    "\n",
    "I implemented TD(0) and TD($\\lambda$)"
   ]
  },
  {
   "cell_type": "code",
   "execution_count": 11,
   "metadata": {},
   "outputs": [],
   "source": [
    "def run_sarsa():\n",
    "    #init env\n",
    "    env = Easy21()\n",
    "\n",
    "    #init agent\n",
    "    agent = AgentEpsilonTable(env.action_space,10,21,100)\n",
    "\n",
    "    number_of_episodes=200000\n",
    "    #bootstappig episodes\n",
    "    for episode in tqdm(range(number_of_episodes)):\n",
    "        state = env.restart()\n",
    "        done = False\n",
    "        while not done:\n",
    "            action = agent.select_action(state)\n",
    "            new_state, reward, done = env.step(action)\n",
    "\n",
    "            #online updates\n",
    "            if new_state is None:\n",
    "                rtn = reward\n",
    "            else:\n",
    "                rtn = reward+ np.max(agent.q_table[new_state[0]-1,new_state[1]-1])\n",
    "            agent.update_q_value(state,action,rtn)\n",
    "            state=new_state\n",
    "    \n",
    "    #plot Q table\n",
    "    plot_q_table(agent.q_table)\n",
    "\n",
    "\n",
    "def run_sarsa_lambda():\n",
    "    #initialize env\n",
    "    env = Easy21()\n",
    "\n",
    "    #initialize Q table\n",
    "    agent = AgentEpsilonTable(env.action_space,10,21,100)\n",
    "\n",
    "    number_of_episodes=2000000\n",
    "\n",
    "    \n",
    "    #lambda for the algorithm to weight the relevance of the \n",
    "    lmba=0.5\n",
    "\n",
    "    for episode in tqdm(range(number_of_episodes)):\n",
    "        state = env.restart()\n",
    "        done = False\n",
    "        history = []\n",
    "        while not done:\n",
    "            action = agent.select_action(state)\n",
    "            new_state, reward, done = env.step(action)\n",
    "            history.append((state,action,reward))\n",
    "            state=new_state\n",
    "        #offline updates using sarsa lambda\n",
    "        for i in range(len(history)):\n",
    "            states,actions,rewards = zip(*history[i:])\n",
    "\n",
    "            #computation of the returns\n",
    "            rtns=[]\n",
    "            for k in range(len(rewards)):\n",
    "                if k+1<len(rewards):\n",
    "                    current_state = states[k+1]\n",
    "                    rtn = sum(rewards[:k+1]) + np.max(agent.q_table[current_state[0]-1,current_state[1]-1])\n",
    "                    rtns.append(rtn*lmba**k)\n",
    "                if (k+1) == len(rewards):\n",
    "                    rtn=sum(rewards)\n",
    "                    rtns.append(rtn*lmba**k)\n",
    "            #summing and normalizing the lambda returns\n",
    "            rtn = sum(rtns)*(1-lmba)/(1-lmba**(len(rtns)))\n",
    "            state,action,_ = history[i]\n",
    "            #updating Q value\n",
    "            agent.update_q_value(state,action,rtn)\n",
    "\n",
    "\n",
    "\n",
    "    #plot Q table\n",
    "    plot_q_table(agent.q_table)\n"
   ]
  },
  {
   "cell_type": "code",
   "execution_count": 12,
   "metadata": {},
   "outputs": [
    {
     "name": "stderr",
     "output_type": "stream",
     "text": [
      "100%|██████████| 2000000/2000000 [03:00<00:00, 11052.63it/s]\n"
     ]
    },
    {
     "data": {
      "image/png": "[encoded data removed]",
      "text/plain": [
       "<Figure size 432x288 with 1 Axes>"
      ]
     },
     "metadata": {
      "needs_background": "light"
     },
     "output_type": "display_data"
    },
    {
     "data": {
      "image/png": "[encoded data removed]",
      "text/plain": [
       "<Figure size 432x288 with 1 Axes>"
      ]
     },
     "metadata": {
      "needs_background": "light"
     },
     "output_type": "display_data"
    },
    {
     "data": {
      "image/png": "[encoded data removed]",
      "text/plain": [
       "<Figure size 432x288 with 1 Axes>"
      ]
     },
     "metadata": {
      "needs_background": "light"
     },
     "output_type": "display_data"
    }
   ],
   "source": [
    "run_sarsa_lambda()"
   ]
  },
  {
   "cell_type": "markdown",
   "metadata": {},
   "source": [
    "## Linear Function Approximation in Easy21\n",
    "There is a dedicated property in the Easy21 class that returns a binary state made explicitely for the function approximator agent "
   ]
  },
  {
   "cell_type": "code",
   "execution_count": 13,
   "metadata": {},
   "outputs": [],
   "source": [
    "\n",
    "#Agent implementing linear sarsa using numpy\n",
    "class AgentSarsaNumpy(object):\n",
    "    \"\"\"\n",
    "    This Agent implements a linear combination of features + action therefore the Q value\n",
    "    is evaluated for each action possible performing a forward computation\n",
    "    \"\"\"\n",
    "    def __init__(self,state_dim,action_dim,epsilon,epsilon_decay):\n",
    "        self.weights = np.random.randn(1,state_dim+1)\n",
    "        self.bias = np.random.randn(1)\n",
    "        self.action_dim = action_dim\n",
    "        self._epsilon = epsilon\n",
    "        self.epsilon_decay=epsilon_decay\n",
    "        self.time=0\n",
    "\n",
    "\n",
    "    #decaying epsilon\n",
    "    @property\n",
    "    def epsilon(self):\n",
    "        return self._epsilon*self.epsilon_decay**self.time\n",
    "\n",
    "    #function to process state + action\n",
    "    def process(self,x):\n",
    "        return np.dot(x,np.transpose(self.weights))+self.bias\n",
    "\n",
    "    \n",
    "    #function to process a state\n",
    "    def forward(self,state):\n",
    "        actions_null=np.zeros((*state.shape[:-1],1))\n",
    "        actions_ones = np.ones((*state.shape[:-1],1))\n",
    "        vector_action_0 = np.concatenate((state,actions_null),axis=-1)\n",
    "        vector_action_1 = np.concatenate((state,actions_ones),axis=-1)\n",
    "\n",
    "        return np.concatenate((self.process(vector_action_0),self.process(vector_action_1)),axis=-1)\n",
    "\n",
    "    def select_action(self,state):\n",
    "        if random.random() < self.epsilon:\n",
    "            return random.choice(range(self.action_dim-1))\n",
    "        else:\n",
    "            return np.argmax(self.forward(state))\n",
    "    #decay the epsilon\n",
    "    def decay(self):\n",
    "        self.time+=1\n",
    "\n",
    "    #update the Q value estimated using linear sarsa , the targets being the MC, TD target\n",
    "    def update_q_model(self,states,actions,targets,learning_rate):\n",
    "        a = actions.reshape(*states.shape[:-1],1)\n",
    "        vector_values = np.concatenate((states,a),axis=-1)\n",
    "        estimated_value = self.process(vector_values)\n",
    "        errors = np.mean(estimated_value -targets)\n",
    "        self.weights -= learning_rate*errors*self.weights\n",
    "        self.bias -= learning_rate*errors\n",
    "        return errors\n"
   ]
  },
  {
   "cell_type": "code",
   "execution_count": 24,
   "metadata": {},
   "outputs": [],
   "source": [
    "#function using a simpler binary representation of the game to feed a function approximator\n",
    "def run_approximator():\n",
    "    #init env\n",
    "    env = Easy21()\n",
    "    #intialize agent approximator\n",
    "    agent = AgentSarsaNumpy(9,2,0.95,0.99)\n",
    "    #lambda for the sarsa lambda algorithm\n",
    "    lmba=0.5\n",
    "    #learning rate for the gradient descent\n",
    "    learning_rate = 0.001\n",
    "\n",
    "\n",
    "    number_of_episodes=60000\n",
    "\n",
    "    #TD errors for the plots\n",
    "    errors=[]\n",
    "\n",
    "    for episode in tqdm(range(number_of_episodes)):\n",
    "        env.restart()\n",
    "        #we are taking the binary state here\n",
    "        state = env.binary_state\n",
    "        done = False\n",
    "        history = []\n",
    "        while not done:\n",
    "            action = agent.select_action(state)\n",
    "            _, reward, done = env.step(action)\n",
    "            new_state = env.binary_state\n",
    "            history.append((state,action,reward))\n",
    "            state=new_state\n",
    "        #offline sarsa lambda updates (forward view)\n",
    "        targets = []\n",
    "        for i in range(len(history)):\n",
    "            states,actions,rewards = zip(*history[i:])\n",
    "            rtns=[]\n",
    "            for k in range(len(rewards)):\n",
    "                if k+1<len(rewards):\n",
    "                    current_state = states[k+1]\n",
    "                    rtn = sum(rewards[:k+1]) + np.max(agent.forward(current_state))\n",
    "                    rtns.append(rtn*lmba**k)\n",
    "                if (k+1) == len(rewards):\n",
    "                    rtn=sum(rewards)\n",
    "                    rtns.append(rtn*lmba**k)\n",
    "\n",
    "            rtn = sum(rtns)*(1-lmba)/(1-lmba**(len(rtns)))\n",
    "            targets.append(rtn)\n",
    "        states,actions,rewards = zip(*history)\n",
    "        #updating model (the update function returns the TD error)\n",
    "        errors.append(abs(agent.update_q_model(np.stack(states),np.array(actions),np.array(targets),learning_rate)))\n",
    "        #decaying epsilon\n",
    "        agent.decay()\n",
    "    plt.plot(np.mean(np.array(errors).reshape(-1,1000),axis=1))\n",
    "    plt.xlabel(\"Iteration\")\n",
    "    plt.ylabel(\"Square Error\")\n",
    "    plt.show()\n"
   ]
  },
  {
   "cell_type": "code",
   "execution_count": 25,
   "metadata": {},
   "outputs": [
    {
     "name": "stderr",
     "output_type": "stream",
     "text": [
      "100%|██████████| 60000/60000 [01:17<00:00, 772.57it/s]\n"
     ]
    },
    {
     "data": {
      "image/png": "[encoded data removed]",
      "text/plain": [
       "<Figure size 432x288 with 1 Axes>"
      ]
     },
     "metadata": {
      "needs_background": "light"
     },
     "output_type": "display_data"
    }
   ],
   "source": [
    "run_approximator()"
   ]
  },
  {
   "cell_type": "code",
   "execution_count": null,
   "metadata": {},
   "outputs": [],
   "source": []
  }
 ],
 "metadata": {
  "kernelspec": {
   "display_name": "Python 3",
   "language": "python",
   "name": "python3"
  },
  "language_info": {
   "codemirror_mode": {
    "name": "ipython",
    "version": 3
   },
   "file_extension": ".py",
   "mimetype": "text/x-python",
   "name": "python",
   "nbconvert_exporter": "python",
   "pygments_lexer": "ipython3",
   "version": "3.7.6"
  }
 },
 "nbformat": 4,
 "nbformat_minor": 2
}
